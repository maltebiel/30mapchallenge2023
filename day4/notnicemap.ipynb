{
 "cells": [
  {
   "cell_type": "code",
   "execution_count": 2,
   "metadata": {},
   "outputs": [],
   "source": [
    "import geopandas as gpd\n",
    "gdf = gpd.read_file ('Banelenke.geojson')"
   ]
  },
  {
   "cell_type": "code",
   "execution_count": 3,
   "metadata": {},
   "outputs": [],
   "source": [
    "import pandas as pd\n",
    "df = pd.DataFrame (gdf)"
   ]
  },
  {
   "cell_type": "code",
   "execution_count": 19,
   "metadata": {},
   "outputs": [],
   "source": [
    "values = ['Dovrebanen', 'Drammenbanen', 'Kongsvingerbanen', 'Gjøvikbanen', 'Gardermobanen','Hovedbanen', 'Vestfoldbanen','Østfoldbanen','Arendalsbanen', 'Flåmsbana', 'Vossebanen', 'Bratsbergbanen', 'Nordlandsbanen', 'Sørlandsbanen', 'Vestfoldbanen', 'Bergensbanen']\n",
    "filtered_df = df [df ['Banenavn'].isin (values)]"
   ]
  },
  {
   "cell_type": "code",
   "execution_count": 20,
   "metadata": {},
   "outputs": [
    {
     "name": "stderr",
     "output_type": "stream",
     "text": [
      "C:\\Users\\BIEMAL\\AppData\\Local\\Temp\\ipykernel_26016\\1657176999.py:5: SettingWithCopyWarning: \n",
      "A value is trying to be set on a copy of a slice from a DataFrame.\n",
      "Try using .loc[row_indexer,col_indexer] = value instead\n",
      "\n",
      "See the caveats in the documentation: https://pandas.pydata.org/pandas-docs/stable/user_guide/indexing.html#returning-a-view-versus-a-copy\n",
      "  filtered_df ['Current'] = filtered_df ['Banenavn'].map (current_dict)\n"
     ]
    }
   ],
   "source": [
    "# Assuming you have a dataframe named df with the Banenavn column\n",
    "# Create a dictionary that maps the Banenavn values to the Current values\n",
    "current_dict = {'Bratsbergbanen': 91.5, 'Dovrebanen': 82.4, 'Nordlandsbanen': 74.2, 'Drammenbanen': 89.9, 'Gardermobanen': 87, 'Gjøvikbanen': 81.4, 'Hovedbanen': 90.3, 'Kongsvingerbanen': 81.5, 'Vestfoldbanen': 87.6, 'Østfoldbanen': 87.9, 'Arendalsbanen': 88, 'Sørlandsbanen': 73.9, 'Bergensbanen': 69.2, 'Flåmsbana': 82.1, 'Vossebanen': 84.2, 'Nordlandsbanen': 74.2,'Vestfoldbanen': 87.6, 'Østfoldbanen': 87.9}\n",
    "# Use the pandas.DataFrame.map method to create a new column with the Current values based on the dictionary\n",
    "filtered_df ['Current'] = filtered_df ['Banenavn'].map (current_dict)\n"
   ]
  },
  {
   "cell_type": "code",
   "execution_count": 21,
   "metadata": {},
   "outputs": [
    {
     "name": "stderr",
     "output_type": "stream",
     "text": [
      "C:\\Users\\BIEMAL\\AppData\\Local\\Temp\\ipykernel_26016\\2699957956.py:1: SettingWithCopyWarning: \n",
      "A value is trying to be set on a copy of a slice from a DataFrame.\n",
      "Try using .loc[row_indexer,col_indexer] = value instead\n",
      "\n",
      "See the caveats in the documentation: https://pandas.pydata.org/pandas-docs/stable/user_guide/indexing.html#returning-a-view-versus-a-copy\n",
      "  filtered_df ['Goal'] = 90 # Create a new column with the goal value of 90 for all entries\n",
      "C:\\Users\\BIEMAL\\AppData\\Local\\Temp\\ipykernel_26016\\2699957956.py:2: SettingWithCopyWarning: \n",
      "A value is trying to be set on a copy of a slice from a DataFrame.\n",
      "Try using .loc[row_indexer,col_indexer] = value instead\n",
      "\n",
      "See the caveats in the documentation: https://pandas.pydata.org/pandas-docs/stable/user_guide/indexing.html#returning-a-view-versus-a-copy\n",
      "  filtered_df ['Punctuality'] = ((filtered_df ['Goal'] - filtered_df ['Current']) / filtered_df ['Goal']) * 100\n"
     ]
    }
   ],
   "source": [
    "filtered_df ['Goal'] = 90 # Create a new column with the goal value of 90 for all entries\n",
    "filtered_df ['Punctuality'] = ((filtered_df ['Goal'] - filtered_df ['Current']) / filtered_df ['Goal']) * 100"
   ]
  },
  {
   "cell_type": "code",
   "execution_count": 16,
   "metadata": {},
   "outputs": [],
   "source": [
    "filtered_df= filtered_df[[\"geometry\", \"Punctuality\"]]"
   ]
  },
  {
   "cell_type": "code",
   "execution_count": 17,
   "metadata": {},
   "outputs": [],
   "source": [
    "filtered_df.to_csv(\"punktlighet.csv\")"
   ]
  },
  {
   "cell_type": "code",
   "execution_count": null,
   "metadata": {},
   "outputs": [],
   "source": []
  }
 ],
 "metadata": {
  "kernelspec": {
   "display_name": "Python 3",
   "language": "python",
   "name": "python3"
  },
  "language_info": {
   "codemirror_mode": {
    "name": "ipython",
    "version": 3
   },
   "file_extension": ".py",
   "mimetype": "text/x-python",
   "name": "python",
   "nbconvert_exporter": "python",
   "pygments_lexer": "ipython3",
   "version": "3.10.9"
  }
 },
 "nbformat": 4,
 "nbformat_minor": 2
}
