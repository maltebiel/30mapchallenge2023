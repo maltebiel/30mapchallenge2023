{
 "cells": [
  {
   "cell_type": "code",
   "execution_count": 3,
   "metadata": {},
   "outputs": [],
   "source": [
    "import geopandas as gpd\n",
    "gdf = gpd.read_file ('Banelenke.geojson')"
   ]
  },
  {
   "cell_type": "code",
   "execution_count": 4,
   "metadata": {},
   "outputs": [],
   "source": [
    "import pandas as pd\n",
    "df = pd.DataFrame (gdf)"
   ]
  },
  {
   "cell_type": "code",
   "execution_count": 7,
   "metadata": {},
   "outputs": [],
   "source": [
    "values = ['Ofotbanen']\n",
    "filtered_df = df [df ['Banenavn'].isin (values)]"
   ]
  },
  {
   "cell_type": "code",
   "execution_count": 9,
   "metadata": {},
   "outputs": [],
   "source": [
    "filtered_df = filtered_df[[\"geometry\"]]"
   ]
  },
  {
   "cell_type": "code",
   "execution_count": 54,
   "metadata": {},
   "outputs": [],
   "source": [
    "merged_geometry = None\n",
    "for index, row in filtered_df.iterrows():\n",
    "    if merged_geometry is None:\n",
    "        merged_geometry = row['geometry']\n",
    "    else:\n",
    "        merged_geometry = merged_geometry.union(row['geometry'])\n",
    "\n",
    "merged_gdf = gpd.GeoDataFrame({'geometry': [merged_geometry]})\n",
    "\n",
    "merged_gdf['banenavn'] = 'ofot'"
   ]
  },
  {
   "cell_type": "code",
   "execution_count": 63,
   "metadata": {},
   "outputs": [],
   "source": [
    "import geopandas as gpd\n",
    "from shapely.geometry import LineString, Point\n",
    "\n",
    "\n",
    "# Define the coordinates of Helsinki, Finland\n",
    "helsinki_coords = (24.941244, 60.169753)\n",
    "\n",
    "# List of coordinates for cities in Asia reachable from Helsinki by land\n",
    "import geopandas as gpd\n",
    "from shapely.geometry import LineString, Point\n",
    "\n",
    "\n",
    "# Define the coordinates of Helsinki, Finland\n",
    "helsinki_coords = (24.941244, 60.169753)\n",
    "\n",
    "# List of coordinates for cities in Asia reachable from Helsinki by land\n",
    "asian_cities_coordinates = [\n",
    "    (116.4074, 39.9042),  # Beijing, China\n",
    "    (39.759455, 35.682839),  # Tokyo, Japan\n",
    "    (77.5946, 12.9716),  # Bengaluru, India\n",
    "    (121.4737, 31.2304),  # Shanghai, China\n",
    "    (99.9018, 31.9686),  # Lhasa, Tibet (China)\n",
    "    (114.1095, 22.3964),  # Hong Kong, China\n",
    "    (77.2090, 28.6139),  # New Delhi, India\n",
    "    (108.9398, 34.3416),  # Xi'an, China\n",
    "    (73.0479, 33.6844),  # Islamabad, Pakistan\n",
    "    (37.6173, 55.7558),  # Moscow, Russia\n",
    "    (88.3639, 22.5726),  # Kolkata, India\n",
    "    (106.7009, 10.7769),  # Ho Chi Minh City, Vietnam\n",
    "]\n",
    "\n",
    "# Create a list to store LineStrings\n",
    "line_strings = []\n",
    "\n",
    "# Loop through the Asian city coordinates and create LineStrings with Helsinki as the starting point\n",
    "for capital_coords in asian_cities_coordinates:\n",
    "    line = LineString([Point(helsinki_coords), Point(capital_coords)])\n",
    "    line_strings.append(line)\n",
    "\n",
    "# Convert the list of LineStrings to a GeoDataFrame\n",
    "lines_gdf = gpd.GeoDataFrame(geometry=line_strings)\n",
    "\n",
    "# Concatenate the new GeoDataFrame with the existing one\n",
    "result_gdf = pd.concat([merged_gdf, lines_gdf], ignore_index=True)\n",
    "\n",
    "# Create a list to store LineStrings\n",
    "line_strings = []\n",
    "\n",
    "# Loop through the Asian city coordinates and create LineStrings with Helsinki as the starting point\n",
    "for capital_coords in asian_cities_coordinates:\n",
    "    line = LineString([Point(helsinki_coords), Point(capital_coords)])\n",
    "    line_strings.append(line)\n",
    "\n",
    "# Convert the list of LineStrings to a GeoDataFrame\n",
    "lines_gdf = gpd.GeoDataFrame(geometry=line_strings)\n",
    "\n",
    "# Concatenate the new GeoDataFrame with the existing one\n",
    "result_gdf = pd.concat([merged_gdf, lines_gdf], ignore_index=True)"
   ]
  },
  {
   "cell_type": "code",
   "execution_count": 58,
   "metadata": {},
   "outputs": [],
   "source": [
    "result_gdf.to_csv(\"linestringsasia.csv\")"
   ]
  },
  {
   "cell_type": "code",
   "execution_count": null,
   "metadata": {},
   "outputs": [],
   "source": []
  }
 ],
 "metadata": {
  "kernelspec": {
   "display_name": "Python 3",
   "language": "python",
   "name": "python3"
  },
  "language_info": {
   "codemirror_mode": {
    "name": "ipython",
    "version": 3
   },
   "file_extension": ".py",
   "mimetype": "text/x-python",
   "name": "python",
   "nbconvert_exporter": "python",
   "pygments_lexer": "ipython3",
   "version": "3.10.9"
  }
 },
 "nbformat": 4,
 "nbformat_minor": 2
}
